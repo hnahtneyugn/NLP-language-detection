{
 "cells": [
  {
   "cell_type": "code",
   "execution_count": 1,
   "id": "0e8e4183",
   "metadata": {},
   "outputs": [],
   "source": [
    "import pandas as pd\n",
    "import os\n",
    "import csv\n",
    "import unicodedata"
   ]
  },
  {
   "cell_type": "code",
   "execution_count": 2,
   "id": "864ac8da",
   "metadata": {},
   "outputs": [],
   "source": [
    "working_dir = os.path.expanduser(\"~/projects/NLP/NLP-language-detection/data\")\n",
    "langs = {\"ara\": \"ar\", \"deu\": \"de\", \"eng\": \"en\", \"fra\": \"fr\", \"rus\": \"ru\", \"vie\": \"vi\", \"lao\": \"lo\"}"
   ]
  },
  {
   "cell_type": "code",
   "execution_count": 3,
   "id": "9e7b05b1",
   "metadata": {},
   "outputs": [],
   "source": [
    "for lang in list(langs.keys())[:-1]:\n",
    "    with open(f\"{working_dir}/{lang}_news_2019_300K/{lang}_news_2019_300K-sentences.txt\") as file:\n",
    "        lines = file.readlines()\n",
    "\n",
    "    sentences = [line.strip().split(sep=\"\\t\", maxsplit=1)[1]  for line in lines]\n",
    "\n",
    "    df = pd.DataFrame(data=sentences[:240000], columns=[\"text\"])\n",
    "\n",
    "    # Remove unicode control characters like U+200E\n",
    "    df['text'] = df['text'].apply(lambda x: ''.join(\n",
    "        char for char in x \n",
    "        if unicodedata.category(char)[0] != 'C' or char in ' \\n\\r\\t'\n",
    "    ))\n",
    "\n",
    "    # Add labels\n",
    "    df[\"label\"] = langs[lang]\n",
    "\n",
    "    # Write data to train set\n",
    "    df.to_csv(f\"{working_dir}/clean_data/train.txt\", mode='a', index=False, header=False, columns=[\"text\", \"label\"], sep=\"\\t\", quoting=csv.QUOTE_NONE)\n",
    "\n",
    "    df_test = pd.DataFrame(data=sentences[240000:], columns=[\"text\"])\n",
    "\n",
    "    # Remove unicode control characters like U+200E\n",
    "    df_test['text'] = df_test['text'].apply(lambda x: ''.join(\n",
    "        char for char in x \n",
    "        if unicodedata.category(char)[0] != 'C' or char in ' \\n\\r\\t'\n",
    "    ))\n",
    "\n",
    "    # Write data to test set\n",
    "    df_test.to_csv(f\"{working_dir}/clean_data/test.txt\", mode='a', index=False, header=False, columns=[\"text\"], sep=\"\\t\", quoting=csv.QUOTE_NONE)"
   ]
  },
  {
   "cell_type": "code",
   "execution_count": 4,
   "id": "539ccf5d",
   "metadata": {},
   "outputs": [],
   "source": [
    "# Create true label file\n",
    "with open(f\"{working_dir}/clean_data/test_labels.txt\", \"w\", encoding=\"utf-8\") as f:\n",
    "    for lang in langs:\n",
    "        for _ in range(60000):\n",
    "            f.write(f\"{langs[lang]}\\n\")"
   ]
  }
 ],
 "metadata": {
  "kernelspec": {
   "display_name": "school",
   "language": "python",
   "name": "python3"
  },
  "language_info": {
   "codemirror_mode": {
    "name": "ipython",
    "version": 3
   },
   "file_extension": ".py",
   "mimetype": "text/x-python",
   "name": "python",
   "nbconvert_exporter": "python",
   "pygments_lexer": "ipython3",
   "version": "3.13.7"
  }
 },
 "nbformat": 4,
 "nbformat_minor": 5
}
